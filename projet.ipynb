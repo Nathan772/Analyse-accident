{
 "cells": [
  {
   "cell_type": "markdown",
   "id": "40f8b88a",
   "metadata": {},
   "source": [
    "<h1 style=\"text-align: center;font-weight: bold\">Analyse de donnée</h1>\n",
    "BILINGI Nathan</br>\n",
    "VECCHIO Matias"
   ]
  },
  {
   "cell_type": "markdown",
   "id": "9751ff27",
   "metadata": {},
   "source": [
    "## Objectif :\n",
    "Rechercher une solution pour prédire la gravité d'un accident de voiture selon la règle :</br>\n",
    "1-indemne, 2-Tué, 3-Hospitalisé, 4-BlesséLéger, à partir d'autres informations (lieu, véhicule, etc.)"
   ]
  },
  {
   "cell_type": "markdown",
   "id": "93b958a0",
   "metadata": {},
   "source": [
    "## **SUMMARY** :\n",
    "- [Librairies](#librairies)\n",
    "- [Exploration de la base de donnée](#exploration-de-la-base-de-donnée)\n",
    "- [Recherche d'un model](#recherche-dun-model)"
   ]
  },
  {
   "cell_type": "markdown",
   "id": "a628fd62",
   "metadata": {},
   "source": [
    "<a id=\"librairies\"></a>\n",
    "### Librairies :\n",
    "Nous allons avoir besoin des librairies standard suivantes : \n",
    "- Numpy v1.23.1\n",
    "- Matplotlib v3.5.2\n",
    "- Pandas v1.4.3\n",
    "- Scikit-learn v1.1.1\n",
    "- Tensorflow v2.8.2"
   ]
  },
  {
   "cell_type": "code",
   "execution_count": 1,
   "id": "d277af3f",
   "metadata": {},
   "outputs": [
    {
     "name": "stdout",
     "output_type": "stream",
     "text": [
      "Collecting numpy==1.23.1\n",
      "  Using cached numpy-1.23.1-cp39-cp39-manylinux_2_17_x86_64.manylinux2014_x86_64.whl (17.1 MB)\n",
      "Installing collected packages: numpy\n",
      "  Attempting uninstall: numpy\n",
      "    Found existing installation: numpy 1.22.4\n",
      "    Uninstalling numpy-1.22.4:\n",
      "      Successfully uninstalled numpy-1.22.4\n",
      "\u001b[31mERROR: pip's dependency resolver does not currently take into account all the packages that are installed. This behaviour is the source of the following dependency conflicts.\n",
      "daal4py 2021.3.0 requires daal==2021.2.3, which is not installed.\n",
      "scipy 1.7.1 requires numpy<1.23.0,>=1.16.5, but you have numpy 1.23.1 which is incompatible.\n",
      "numba 0.54.1 requires numpy<1.21,>=1.17, but you have numpy 1.23.1 which is incompatible.\u001b[0m\n",
      "Successfully installed numpy-1.23.1\n",
      "Note: you may need to restart the kernel to use updated packages.\n",
      "Requirement already satisfied: matplotlib==3.5.2 in /home/natew/anaconda3/lib/python3.9/site-packages (3.5.2)\n",
      "Requirement already satisfied: pillow>=6.2.0 in /home/natew/anaconda3/lib/python3.9/site-packages (from matplotlib==3.5.2) (8.4.0)\n",
      "Requirement already satisfied: cycler>=0.10 in /home/natew/anaconda3/lib/python3.9/site-packages (from matplotlib==3.5.2) (0.10.0)\n",
      "Requirement already satisfied: python-dateutil>=2.7 in /home/natew/anaconda3/lib/python3.9/site-packages (from matplotlib==3.5.2) (2.8.2)\n",
      "Requirement already satisfied: packaging>=20.0 in /home/natew/anaconda3/lib/python3.9/site-packages (from matplotlib==3.5.2) (21.0)\n",
      "Requirement already satisfied: numpy>=1.17 in /home/natew/anaconda3/lib/python3.9/site-packages (from matplotlib==3.5.2) (1.23.1)\n",
      "Requirement already satisfied: pyparsing>=2.2.1 in /home/natew/anaconda3/lib/python3.9/site-packages (from matplotlib==3.5.2) (3.0.4)\n",
      "Requirement already satisfied: kiwisolver>=1.0.1 in /home/natew/anaconda3/lib/python3.9/site-packages (from matplotlib==3.5.2) (1.3.1)\n",
      "Requirement already satisfied: fonttools>=4.22.0 in /home/natew/anaconda3/lib/python3.9/site-packages (from matplotlib==3.5.2) (4.25.0)\n",
      "Requirement already satisfied: six in /home/natew/anaconda3/lib/python3.9/site-packages (from cycler>=0.10->matplotlib==3.5.2) (1.16.0)\n",
      "Note: you may need to restart the kernel to use updated packages.\n",
      "Requirement already satisfied: pandas==1.4.3 in /home/natew/anaconda3/lib/python3.9/site-packages (1.4.3)\n",
      "Requirement already satisfied: numpy>=1.18.5 in /home/natew/anaconda3/lib/python3.9/site-packages (from pandas==1.4.3) (1.23.1)\n",
      "Requirement already satisfied: python-dateutil>=2.8.1 in /home/natew/anaconda3/lib/python3.9/site-packages (from pandas==1.4.3) (2.8.2)\n",
      "Requirement already satisfied: pytz>=2020.1 in /home/natew/anaconda3/lib/python3.9/site-packages (from pandas==1.4.3) (2021.3)\n",
      "Requirement already satisfied: six>=1.5 in /home/natew/anaconda3/lib/python3.9/site-packages (from python-dateutil>=2.8.1->pandas==1.4.3) (1.16.0)\n",
      "Note: you may need to restart the kernel to use updated packages.\n",
      "Requirement already satisfied: scikit-learn==1.1.1 in /home/natew/anaconda3/lib/python3.9/site-packages (1.1.1)\n",
      "Requirement already satisfied: scipy>=1.3.2 in /home/natew/anaconda3/lib/python3.9/site-packages (from scikit-learn==1.1.1) (1.7.1)\n",
      "Requirement already satisfied: threadpoolctl>=2.0.0 in /home/natew/anaconda3/lib/python3.9/site-packages (from scikit-learn==1.1.1) (2.2.0)\n",
      "Requirement already satisfied: joblib>=1.0.0 in /home/natew/anaconda3/lib/python3.9/site-packages (from scikit-learn==1.1.1) (1.1.0)\n",
      "Requirement already satisfied: numpy>=1.17.3 in /home/natew/anaconda3/lib/python3.9/site-packages (from scikit-learn==1.1.1) (1.23.1)\n",
      "Collecting numpy>=1.17.3\n",
      "  Using cached numpy-1.22.4-cp39-cp39-manylinux_2_17_x86_64.manylinux2014_x86_64.whl (16.8 MB)\n",
      "Installing collected packages: numpy\n",
      "  Attempting uninstall: numpy\n",
      "    Found existing installation: numpy 1.23.1\n",
      "    Uninstalling numpy-1.23.1:\n",
      "      Successfully uninstalled numpy-1.23.1\n",
      "\u001b[31mERROR: pip's dependency resolver does not currently take into account all the packages that are installed. This behaviour is the source of the following dependency conflicts.\n",
      "daal4py 2021.3.0 requires daal==2021.2.3, which is not installed.\n",
      "numba 0.54.1 requires numpy<1.21,>=1.17, but you have numpy 1.22.4 which is incompatible.\u001b[0m\n",
      "Successfully installed numpy-1.22.4\n",
      "Note: you may need to restart the kernel to use updated packages.\n",
      "Requirement already satisfied: tensorflow==2.8.2 in /home/natew/anaconda3/lib/python3.9/site-packages (2.8.2)\n",
      "Requirement already satisfied: typing-extensions>=3.6.6 in /home/natew/anaconda3/lib/python3.9/site-packages (from tensorflow==2.8.2) (3.10.0.2)\n",
      "Requirement already satisfied: six>=1.12.0 in /home/natew/anaconda3/lib/python3.9/site-packages (from tensorflow==2.8.2) (1.16.0)\n",
      "Requirement already satisfied: numpy>=1.20 in /home/natew/anaconda3/lib/python3.9/site-packages (from tensorflow==2.8.2) (1.22.4)\n",
      "Requirement already satisfied: google-pasta>=0.1.1 in /home/natew/anaconda3/lib/python3.9/site-packages (from tensorflow==2.8.2) (0.2.0)\n",
      "Requirement already satisfied: keras<2.9,>=2.8.0rc0 in /home/natew/anaconda3/lib/python3.9/site-packages (from tensorflow==2.8.2) (2.8.0)\n",
      "Requirement already satisfied: setuptools in /home/natew/anaconda3/lib/python3.9/site-packages (from tensorflow==2.8.2) (58.0.4)\n",
      "Requirement already satisfied: protobuf<3.20,>=3.9.2 in /home/natew/anaconda3/lib/python3.9/site-packages (from tensorflow==2.8.2) (3.19.6)\n",
      "Requirement already satisfied: astunparse>=1.6.0 in /home/natew/anaconda3/lib/python3.9/site-packages (from tensorflow==2.8.2) (1.6.3)\n",
      "Requirement already satisfied: libclang>=9.0.1 in /home/natew/anaconda3/lib/python3.9/site-packages (from tensorflow==2.8.2) (16.0.6)\n",
      "Requirement already satisfied: gast>=0.2.1 in /home/natew/anaconda3/lib/python3.9/site-packages (from tensorflow==2.8.2) (0.5.4)\n",
      "Requirement already satisfied: absl-py>=0.4.0 in /home/natew/anaconda3/lib/python3.9/site-packages (from tensorflow==2.8.2) (2.0.0)\n",
      "Requirement already satisfied: keras-preprocessing>=1.1.1 in /home/natew/anaconda3/lib/python3.9/site-packages (from tensorflow==2.8.2) (1.1.2)\n",
      "Requirement already satisfied: tensorflow-estimator<2.9,>=2.8 in /home/natew/anaconda3/lib/python3.9/site-packages (from tensorflow==2.8.2) (2.8.0)\n",
      "Requirement already satisfied: tensorboard<2.9,>=2.8 in /home/natew/anaconda3/lib/python3.9/site-packages (from tensorflow==2.8.2) (2.8.0)\n",
      "Requirement already satisfied: wrapt>=1.11.0 in /home/natew/anaconda3/lib/python3.9/site-packages (from tensorflow==2.8.2) (1.12.1)\n",
      "Requirement already satisfied: grpcio<2.0,>=1.24.3 in /home/natew/anaconda3/lib/python3.9/site-packages (from tensorflow==2.8.2) (1.60.0)\n",
      "Requirement already satisfied: flatbuffers>=1.12 in /home/natew/anaconda3/lib/python3.9/site-packages (from tensorflow==2.8.2) (23.5.26)\n",
      "Requirement already satisfied: opt-einsum>=2.3.2 in /home/natew/anaconda3/lib/python3.9/site-packages (from tensorflow==2.8.2) (3.3.0)\n",
      "Requirement already satisfied: h5py>=2.9.0 in /home/natew/anaconda3/lib/python3.9/site-packages (from tensorflow==2.8.2) (3.3.0)\n",
      "Requirement already satisfied: tensorflow-io-gcs-filesystem>=0.23.1 in /home/natew/anaconda3/lib/python3.9/site-packages (from tensorflow==2.8.2) (0.34.0)\n",
      "Requirement already satisfied: termcolor>=1.1.0 in /home/natew/anaconda3/lib/python3.9/site-packages (from tensorflow==2.8.2) (2.4.0)\n",
      "Requirement already satisfied: wheel<1.0,>=0.23.0 in /home/natew/anaconda3/lib/python3.9/site-packages (from astunparse>=1.6.0->tensorflow==2.8.2) (0.37.0)\n",
      "Requirement already satisfied: werkzeug>=0.11.15 in /home/natew/anaconda3/lib/python3.9/site-packages (from tensorboard<2.9,>=2.8->tensorflow==2.8.2) (2.0.2)\n",
      "Requirement already satisfied: google-auth<3,>=1.6.3 in /home/natew/anaconda3/lib/python3.9/site-packages (from tensorboard<2.9,>=2.8->tensorflow==2.8.2) (2.25.2)\n",
      "Requirement already satisfied: tensorboard-data-server<0.7.0,>=0.6.0 in /home/natew/anaconda3/lib/python3.9/site-packages (from tensorboard<2.9,>=2.8->tensorflow==2.8.2) (0.6.1)\n",
      "Requirement already satisfied: requests<3,>=2.21.0 in /home/natew/anaconda3/lib/python3.9/site-packages (from tensorboard<2.9,>=2.8->tensorflow==2.8.2) (2.26.0)\n",
      "Requirement already satisfied: tensorboard-plugin-wit>=1.6.0 in /home/natew/anaconda3/lib/python3.9/site-packages (from tensorboard<2.9,>=2.8->tensorflow==2.8.2) (1.8.1)\n",
      "Requirement already satisfied: google-auth-oauthlib<0.5,>=0.4.1 in /home/natew/anaconda3/lib/python3.9/site-packages (from tensorboard<2.9,>=2.8->tensorflow==2.8.2) (0.4.6)\n",
      "Requirement already satisfied: markdown>=2.6.8 in /home/natew/anaconda3/lib/python3.9/site-packages (from tensorboard<2.9,>=2.8->tensorflow==2.8.2) (3.5.1)\n"
     ]
    },
    {
     "name": "stdout",
     "output_type": "stream",
     "text": [
      "Requirement already satisfied: rsa<5,>=3.1.4 in /home/natew/anaconda3/lib/python3.9/site-packages (from google-auth<3,>=1.6.3->tensorboard<2.9,>=2.8->tensorflow==2.8.2) (4.9)\n",
      "Requirement already satisfied: pyasn1-modules>=0.2.1 in /home/natew/anaconda3/lib/python3.9/site-packages (from google-auth<3,>=1.6.3->tensorboard<2.9,>=2.8->tensorflow==2.8.2) (0.3.0)\n",
      "Requirement already satisfied: cachetools<6.0,>=2.0.0 in /home/natew/anaconda3/lib/python3.9/site-packages (from google-auth<3,>=1.6.3->tensorboard<2.9,>=2.8->tensorflow==2.8.2) (5.3.2)\n",
      "Requirement already satisfied: requests-oauthlib>=0.7.0 in /home/natew/anaconda3/lib/python3.9/site-packages (from google-auth-oauthlib<0.5,>=0.4.1->tensorboard<2.9,>=2.8->tensorflow==2.8.2) (1.3.1)\n",
      "Requirement already satisfied: importlib-metadata>=4.4 in /home/natew/anaconda3/lib/python3.9/site-packages (from markdown>=2.6.8->tensorboard<2.9,>=2.8->tensorflow==2.8.2) (4.8.1)\n",
      "Requirement already satisfied: zipp>=0.5 in /home/natew/anaconda3/lib/python3.9/site-packages (from importlib-metadata>=4.4->markdown>=2.6.8->tensorboard<2.9,>=2.8->tensorflow==2.8.2) (3.6.0)\n",
      "Requirement already satisfied: pyasn1<0.6.0,>=0.4.6 in /home/natew/anaconda3/lib/python3.9/site-packages (from pyasn1-modules>=0.2.1->google-auth<3,>=1.6.3->tensorboard<2.9,>=2.8->tensorflow==2.8.2) (0.5.1)\n",
      "Requirement already satisfied: charset-normalizer~=2.0.0 in /home/natew/anaconda3/lib/python3.9/site-packages (from requests<3,>=2.21.0->tensorboard<2.9,>=2.8->tensorflow==2.8.2) (2.0.4)\n",
      "Requirement already satisfied: urllib3<1.27,>=1.21.1 in /home/natew/anaconda3/lib/python3.9/site-packages (from requests<3,>=2.21.0->tensorboard<2.9,>=2.8->tensorflow==2.8.2) (1.26.7)\n",
      "Requirement already satisfied: idna<4,>=2.5 in /home/natew/anaconda3/lib/python3.9/site-packages (from requests<3,>=2.21.0->tensorboard<2.9,>=2.8->tensorflow==2.8.2) (3.2)\n",
      "Requirement already satisfied: certifi>=2017.4.17 in /home/natew/anaconda3/lib/python3.9/site-packages (from requests<3,>=2.21.0->tensorboard<2.9,>=2.8->tensorflow==2.8.2) (2021.10.8)\n",
      "Requirement already satisfied: oauthlib>=3.0.0 in /home/natew/anaconda3/lib/python3.9/site-packages (from requests-oauthlib>=0.7.0->google-auth-oauthlib<0.5,>=0.4.1->tensorboard<2.9,>=2.8->tensorflow==2.8.2) (3.2.2)\n",
      "Note: you may need to restart the kernel to use updated packages.\n"
     ]
    }
   ],
   "source": [
    "%pip install numpy==1.23.1\n",
    "%pip install matplotlib==3.5.2\n",
    "%pip install pandas==1.4.3\n",
    "%pip install scikit-learn==1.1.1\n",
    "%pip install tensorflow==2.8.2"
   ]
  },
  {
   "cell_type": "code",
   "execution_count": 2,
   "id": "4566beb8",
   "metadata": {},
   "outputs": [
    {
     "name": "stderr",
     "output_type": "stream",
     "text": [
      "2024-01-07 13:08:51.521293: W tensorflow/stream_executor/platform/default/dso_loader.cc:64] Could not load dynamic library 'libcudart.so.11.0'; dlerror: libcudart.so.11.0: cannot open shared object file: No such file or directory\n",
      "2024-01-07 13:08:51.521308: I tensorflow/stream_executor/cuda/cudart_stub.cc:29] Ignore above cudart dlerror if you do not have a GPU set up on your machine.\n"
     ]
    }
   ],
   "source": [
    "import matplotlib.pyplot as plt\n",
    "import numpy as np\n",
    "import pandas as pd\n",
    "import tensorflow as tf\n",
    "\n",
    "from sklearn import datasets\n",
    "from sklearn.metrics import log_loss\n",
    "from sklearn.model_selection import train_test_split\n",
    "from sklearn.metrics import accuracy_score\n",
    "from datetime import datetime"
   ]
  },
  {
   "cell_type": "markdown",
   "id": "4c993712",
   "metadata": {},
   "source": [
    "<a id=\"exploration-de-la-base-de-donnée\"></a>\n",
    "### Exploration de la base de donnée :"
   ]
  },
  {
   "cell_type": "markdown",
   "id": "84987439",
   "metadata": {},
   "source": [
    "Nous avons choisi <a href=\"https://www.data.gouv.fr/fr/datasets/r/8ef4c2a3-91a0-4d98-ae3a-989bde87b62a\">la base de donnée annuelle des accidents corporels de la circulation routière de 2005 à 2022</a>"
   ]
  },
  {
   "cell_type": "code",
   "execution_count": null,
   "id": "3ad65a4e",
   "metadata": {},
   "outputs": [],
   "source": [
    "dvf = pd.read_csv('./base_accidents_2021_short.csv', dtype={'hrmn':'str'})"
   ]
  },
  {
   "cell_type": "code",
   "execution_count": null,
   "id": "37f8776c",
   "metadata": {},
   "outputs": [],
   "source": [
    "dvf"
   ]
  },
  {
   "cell_type": "code",
   "execution_count": null,
   "id": "d9b1c49a",
   "metadata": {},
   "outputs": [],
   "source": [
    "dvf.describe()"
   ]
  },
  {
   "cell_type": "markdown",
   "id": "1923c98e",
   "metadata": {},
   "source": [
    "Ce tableau n'est pas très parlant car on remarque que beaucoup de colonnes sont des données énumérés</br>\n",
    "Il est alors compliqué de déterminée une moyenne ou autre relation dans ces données.\n",
    "\n",
    "Nous pouvons tout de même remarquer que en moyenne les accidents impact plus de personne nées en 1983"
   ]
  },
  {
   "cell_type": "code",
   "execution_count": null,
   "id": "a696aa34",
   "metadata": {},
   "outputs": [],
   "source": [
    "correlation_matrix = dvf.corr()\n",
    "correlation_matrix"
   ]
  },
  {
   "cell_type": "code",
   "execution_count": null,
   "id": "c26960ec",
   "metadata": {},
   "outputs": [],
   "source": [
    "dvf.shape"
   ]
  },
  {
   "cell_type": "markdown",
   "id": "a336aefb",
   "metadata": {},
   "source": [
    "Les dimensions étant très grande, il est compliqué de s'y retrouver dans un tableau aussi grand, filtront un peu les informations :"
   ]
  },
  {
   "cell_type": "code",
   "execution_count": null,
   "id": "989b0f0f",
   "metadata": {},
   "outputs": [],
   "source": [
    "# On isole les correlations\n",
    "for topic in correlation_matrix:\n",
    "    for tmp in correlation_matrix:\n",
    "        corr = correlation_matrix[tmp][topic]\n",
    "        dist_corr = abs(corr)\n",
    "        if(dist_corr > 0.3 and dist_corr != 1):\n",
    "            print(topic, tmp, corr)"
   ]
  },
  {
   "cell_type": "markdown",
   "id": "54c30f90",
   "metadata": {},
   "source": [
    "Malheuresement, même en isolant les données nous n'apprenont pas grand chose.</br>\n",
    "Evidemment que la place dans le véhicule(place) et la catégorie utilisateur(catu) sont correlé,\n",
    "le conducteur est forcément devant le volant, un piéton hors du véhicule.</br>\n",
    "Même chose avec la localisation du piéton (locp)</br>\n",
    "Et ainsi de suite."
   ]
  },
  {
   "cell_type": "code",
   "execution_count": null,
   "id": "c1401152",
   "metadata": {},
   "outputs": [],
   "source": [
    "dvf['grav'].value_counts().sort_index().plot(kind='bar')\n",
    "plt.xlabel('degré de gravitée')\n",
    "plt.ylabel('Nombre de valeurs')\n",
    "plt.title('Répartition des différents gravités de blessures.')\n",
    "plt.show()"
   ]
  },
  {
   "cell_type": "markdown",
   "id": "cb8bb91e",
   "metadata": {},
   "source": [
    "L'exploration des données s'achève avec la récupération des différentes repartitions des degrés de blessure.\n",
    "On peut voir que les degrés de blessures sont réparties en 5 catégories différentes et qu'il n'est pas possible d'être en dehors de ces catégories. Comme il y a un nombre limité de catégories alors on se retrouve dans un problème de classification, avec un label appartenant à un ensemble fini de valeurs possibles."
   ]
  },
  {
   "cell_type": "code",
   "execution_count": 19,
   "id": "a760d85a",
   "metadata": {},
   "outputs": [],
   "source": [
    "# TODO\n",
    "# observation de grav -> donnée énumérée\n",
    "# Et donc : classification -> transition"
   ]
  },
  {
   "cell_type": "markdown",
   "id": "c1a56f0f",
   "metadata": {},
   "source": [
    "<a id=\"recherche-dun-model\"></a>\n",
    "### Recherche d'un model :"
   ]
  },
  {
   "cell_type": "markdown",
   "id": "0bbcb85d",
   "metadata": {},
   "source": [
    "- <a href=\"https://scikit-learn.org/stable/modules/generated/sklearn.linear_model.RidgeClassifier.html\">RidgeClassifier</a> : fonctionnement\n",
    "\n",
    "Cet algorithme transforme le problème de classification en problème de régression en convertissant les cibles \n",
    "en des valeurs comprises entre -1 et 1.\n",
    "Il créé une fonction par classe, puis, lorsqu'on lui donne une nouvelle donnée, il teste pour chaque fonction la probabilité que cette donnée appartienne à cette classe.\n",
    "La probabilité la plus haute permet de savoir la classe prédite par l'algorithme."
   ]
  },
  {
   "cell_type": "markdown",
   "id": "51964c7e",
   "metadata": {},
   "source": [
    "- <a href=\"https://scikit-learn.org/stable/modules/generated/sklearn.neighbors.NearestCentroid.html\">NearestCentroid</a> : fonctionnement\n",
    "(non supervisé, car utilise K-Mean)\n",
    "\n",
    "\n",
    "On détermine la catégorie à laquelle un point appartient en regardant la catégorie à laquelle appartient son centroid le plus proche.\n",
    "Pour déterminer la position des centroides, on initialise les n centroides (avec n le nombre de catégories) avec les coordonnées de n points choisit aléatoirement.\n",
    "Ensuite, on met à jour les centroides en calculant la moyenne des distances des points par rapport à leur centroide le plus proche. Une fois que les centroides ne changent plus de place entre deux mises à jours on arrête les calculs."
   ]
  },
  {
   "cell_type": "markdown",
   "id": "17af2b81",
   "metadata": {},
   "source": [
    "- <a href=\"https://scikit-learn.org/stable/modules/generated/sklearn.tree.DecisionTreeClassifier.html\">DecisionTree</a>"
   ]
  },
  {
   "cell_type": "markdown",
   "id": "148d0241",
   "metadata": {},
   "source": [
    "On prépare alors des outils (fonctions) pour nos tests, pratiquement indépendants du modèle étudié (il reste une différenciation entre l'exploitation de modèle crée avec tensorflow et les modèles plus classique de scikit-learn)"
   ]
  },
  {
   "cell_type": "code",
   "execution_count": 25,
   "id": "1e39fa85",
   "metadata": {},
   "outputs": [],
   "source": [
    "from sklearn.linear_model import RidgeClassifier\n",
    "from sklearn.neighbors import NearestCentroid\n",
    "from sklearn.tree import DecisionTreeClassifier\n",
    "from tensorflow.keras.losses import SparseCategoricalCrossentropy\n",
    "\n",
    "def print_result(f):\n",
    "    \"\"\"Fonction d'affichage des résultats de test_model et test_model_tensorflow.\n",
    "\n",
    "    Args:\n",
    "        f function: test_model ou test_model_tensorflow\n",
    "    \"\"\"\n",
    "    def result(*args, **kwargs):\n",
    "        print(args[0])\n",
    "        score = f(*args, **kwargs)\n",
    "        print(f\"\\t Mean accuracy: {score* 100}%\")\n",
    "        return score\n",
    "    return result\n",
    "\n",
    "@print_result\n",
    "def test_model(model, obs, labels, n):\n",
    "    \"\"\"Fonction de test d'un model, par un score après n série d'entrainement puis tests.\n",
    "\n",
    "    Args:\n",
    "        model : Le modèle à tester\n",
    "        obs : Nos observations\n",
    "        labels : Nos labels\n",
    "        n (int): le nombre de sessions entrainement/test\n",
    "\n",
    "    Returns:\n",
    "        int : l'accuracy moyenne des sessions de test.\n",
    "    \"\"\"\n",
    "    test_score = []\n",
    "    for _ in range(n):\n",
    "        tmp = model\n",
    "        train_x, tests_x, train_y, tests_y = train_test_split(obs, labels)\n",
    "        tmp.fit(train_x, train_y)\n",
    "        test_score.append(tmp.score(tests_x, tests_y))\n",
    "    return np.mean(test_score)\n",
    "\n",
    "@print_result\n",
    "def test_model_tensorflow(model, obs, labels, n):\n",
    "    \"\"\"Fonction de test d'un model fait avec tensorflow.\n",
    "    La méthode diffère un peu, au lieu d'une répétitions de tests indépendant dont on prend la moyenne.\n",
    "    Le modèle suit une série de n entrainement pour ensuite s'évaluer sur les tests.\n",
    "\n",
    "    Args:\n",
    "        model : Le modèle à tester\n",
    "        obs : Nos observations\n",
    "        labels : Nos labels\n",
    "        n (int): le nombre\n",
    "\n",
    "    Returns:\n",
    "        int : l'accuracy moyenne\n",
    "    \"\"\"\n",
    "    test_score = []\n",
    "    train_x, tests_x, train_y, tests_y = train_test_split(obs, labels)\n",
    "    model.fit(train_x, train_y, epochs=n)\n",
    "    test_score.append(model.evaluate(tests_x, tests_y)[1]) # sortie de la forme loss_value, accuracy --> on ne récupère que l'accuracy.\n",
    "    return np.mean(test_score)"
   ]
  },
  {
   "cell_type": "markdown",
   "id": "5e7ee026",
   "metadata": {},
   "source": [
    "On prépare également une fonction pour lancer nos tests sur chaques modèles que nous voulons étudier et créer un graphe pour illustrer les résultats."
   ]
  },
  {
   "cell_type": "code",
   "execution_count": 26,
   "id": "3ba6ea82",
   "metadata": {},
   "outputs": [],
   "source": [
    "def test(tf_model, observations, labels, n):\n",
    "    scores = []\n",
    "    scores.append(test_model_tensorflow(tf_model,observations,labels, n))\n",
    "    scores.append(test_model(RidgeClassifier(), observations, labels, n))\n",
    "    scores.append(test_model(NearestCentroid(), observations, labels, n))\n",
    "    scores.append(test_model(DecisionTreeClassifier(), observations, labels, n))\n",
    "    \n",
    "    scores_labels = ['TensorFlow','Ridge','NearestCentroid','DecisionTree']\n",
    "    colors = ['blue', 'green', 'red', 'orange']\n",
    "    plt.bar(scores_labels, [x * 100 for x in scores], color=colors)\n",
    "    plt.xlabel('')\n",
    "    plt.ylabel('Score (en %)')\n",
    "    plt.title('Récapitulatif des scores')\n",
    "    plt.ylim(0, 100)\n",
    "    plt.show()\n",
    "    return"
   ]
  },
  {
   "cell_type": "markdown",
   "id": "56bc56c0",
   "metadata": {},
   "source": [
    "On lance une 1ere série de test</br>\n",
    "De manière naïve, on retire les données qui posent problème à la compilation (Not a Number et la colonne des heures)"
   ]
  },
  {
   "cell_type": "code",
   "execution_count": 31,
   "id": "1041e4e7",
   "metadata": {},
   "outputs": [],
   "source": [
    "n = 5\n",
    "objectif = \"grav\"\n",
    "observations = dvf.notna().drop(columns=[objectif, \"hrmn\"])\n",
    "labels = dvf[objectif].map(lambda x: x +1)"
   ]
  },
  {
   "cell_type": "markdown",
   "id": "98d13420",
   "metadata": {},
   "source": [
    "Nous avons également essayé de créer un modèle avec Tensorflow, il ne possède pas beaucoup de layer car avec un jeu de donnée de dimensions 34, les entrainements devenaient vite très long."
   ]
  },
  {
   "cell_type": "code",
   "execution_count": 28,
   "id": "a08bdd74",
   "metadata": {},
   "outputs": [],
   "source": [
    "tf_model = tf.keras.models.Sequential([\n",
    "    tf.keras.layers.Dense(100, activation='relu', input_shape=(len(observations.columns),)),\n",
    "    tf.keras.layers.Dense(50, activation='relu'),\n",
    "    tf.keras.layers.Dense(6, activation='softmax'),\n",
    "])\n",
    "\n",
    "tf_model.compile(\n",
    "    optimizer='adam', \n",
    "    loss=SparseCategoricalCrossentropy(), \n",
    "    metrics=['accuracy']\n",
    ")"
   ]
  },
  {
   "cell_type": "code",
   "execution_count": 29,
   "id": "7264bbe8",
   "metadata": {},
   "outputs": [
    {
     "name": "stdout",
     "output_type": "stream",
     "text": [
      "<keras.engine.sequential.Sequential object at 0x7f1ed1a83f40>\n",
      "Epoch 1/5\n",
      "5814/5814 [==============================] - 5s 835us/step - loss: 1.0602 - accuracy: 0.4494\n",
      "Epoch 2/5\n",
      "5814/5814 [==============================] - 6s 987us/step - loss: 1.0509 - accuracy: 0.4527\n",
      "Epoch 3/5\n",
      "5814/5814 [==============================] - 6s 982us/step - loss: 1.0501 - accuracy: 0.4561\n",
      "Epoch 4/5\n",
      "5814/5814 [==============================] - 5s 783us/step - loss: 1.0496 - accuracy: 0.4579\n",
      "Epoch 5/5\n",
      "5814/5814 [==============================] - 6s 1ms/step - loss: 1.0494 - accuracy: 0.4573\n",
      "1938/1938 [==============================] - 2s 773us/step - loss: 1.0514 - accuracy: 0.4584\n",
      "\t Mean accuracy: 45.83978354930878%\n",
      "RidgeClassifier()\n",
      "\t Mean accuracy: 45.75367647058823%\n",
      "NearestCentroid()\n",
      "\t Mean accuracy: 13.071787925696594%\n",
      "DecisionTreeClassifier()\n",
      "\t Mean accuracy: 45.968459752321984%\n"
     ]
    },
    {
     "data": {
      "image/png": "[encoded data removed]",
      "text/plain": [
       "<Figure size 432x288 with 1 Axes>"
      ]
     },
     "metadata": {
      "needs_background": "light"
     },
     "output_type": "display_data"
    }
   ],
   "source": [
    "test(tf_model, observations, labels, n)"
   ]
  },
  {
   "cell_type": "markdown",
   "id": "d6ce58d4",
   "metadata": {},
   "source": [
    "On peut voir qu'en ayant retiré certaines données, les algorithmes ont des performances peu impressionnantes :\n",
    "ils sont trois à être aux alentours de 45% de prédictions corrects et le nearestCentroid est à 10%, mais ce dernier résultat s'explique par le fait qu'il n'est pas fait pour un apprentissage supervisé.\n"
   ]
  },
  {
   "cell_type": "markdown",
   "id": "bab2094e",
   "metadata": {},
   "source": [
    "Test sans drop"
   ]
  },
  {
   "cell_type": "code",
   "execution_count": 34,
   "id": "76381864",
   "metadata": {},
   "outputs": [],
   "source": [
    "#plutôt que de retirer les colonnes problématiques, on convertie les données pour qu'elles puissent être traitées\n",
    "#l'heure sera convertie en un format numérique\n",
    "# et les \"na\" vont être remplacé par des -1, une valeur neutre\n",
    "n = 5\n",
    "objectif = \"grav\"\n",
    "#on recharge dvf à nouveau\n",
    "dvf = pd.read_csv('./base_accidents_2021_short.csv', dtype={'hrmn':'str'})\n",
    "dvf['hrmn'] = dvf['hrmn'].apply(lambda x: int(datetime.strptime(x,'%H:%M').strftime(\"%H%M%S\")))\n",
    "observations = dvf.drop(columns=[objectif])\n",
    "observations.fillna(-1,inplace=True)\n",
    "labels = dvf[objectif].map(lambda x: x +1)"
   ]
  },
  {
   "cell_type": "markdown",
   "id": "d63d8b5d",
   "metadata": {},
   "source": [
    "On recrée le model avec Tensorflow"
   ]
  },
  {
   "cell_type": "code",
   "execution_count": 35,
   "id": "6927ba96",
   "metadata": {},
   "outputs": [],
   "source": [
    "tf_model = tf.keras.models.Sequential([\n",
    "    tf.keras.layers.Dense(100, activation='relu', input_shape=(len(observations.columns),)),\n",
    "    tf.keras.layers.Dense(50, activation='relu'),\n",
    "    tf.keras.layers.Dense(6, activation='softmax'),\n",
    "])\n",
    "\n",
    "tf_model.compile(\n",
    "    optimizer='adam', \n",
    "    loss=SparseCategoricalCrossentropy(), \n",
    "    metrics=['accuracy']\n",
    ")"
   ]
  },
  {
   "cell_type": "code",
   "execution_count": 36,
   "id": "ccca6ca8",
   "metadata": {},
   "outputs": [
    {
     "name": "stdout",
     "output_type": "stream",
     "text": [
      "<keras.engine.sequential.Sequential object at 0x7f1e81477220>\n",
      "Epoch 1/5\n"
     ]
    },
    {
     "name": "stderr",
     "output_type": "stream",
     "text": [
      "2024-01-07 13:24:12.561287: W tensorflow/core/framework/cpu_allocator_impl.cc:82] Allocation of 49115880 exceeds 10% of free system memory.\n"
     ]
    },
    {
     "name": "stdout",
     "output_type": "stream",
     "text": [
      "5814/5814 [==============================] - 6s 900us/step - loss: 162.7601 - accuracy: 0.3866\n",
      "Epoch 2/5\n",
      "5814/5814 [==============================] - 6s 1ms/step - loss: 28.3496 - accuracy: 0.4076\n",
      "Epoch 3/5\n",
      "5814/5814 [==============================] - 5s 816us/step - loss: 1.0968 - accuracy: 0.4597\n",
      "Epoch 4/5\n",
      "5814/5814 [==============================] - 5s 780us/step - loss: 1.0807 - accuracy: 0.4599\n",
      "Epoch 5/5\n",
      "5814/5814 [==============================] - 5s 824us/step - loss: 1.1025 - accuracy: 0.4599\n",
      "1938/1938 [==============================] - 2s 772us/step - loss: 1.0743 - accuracy: 0.4552\n",
      "\t Mean accuracy: 45.51728665828705%\n",
      "RidgeClassifier()\n",
      "\t Mean accuracy: 53.32591589267286%\n",
      "NearestCentroid()\n",
      "\t Mean accuracy: 26.820175438596493%\n",
      "DecisionTreeClassifier()\n",
      "\t Mean accuracy: 73.88835139318884%\n"
     ]
    },
    {
     "data": {
      "image/png": "[encoded data removed]",
      "text/plain": [
       "<Figure size 432x288 with 1 Axes>"
      ]
     },
     "metadata": {
      "needs_background": "light"
     },
     "output_type": "display_data"
    }
   ],
   "source": [
    "#on relance les tests\n",
    "test(tf_model, observations, labels, n)"
   ]
  },
  {
   "cell_type": "markdown",
   "id": "12e087b5",
   "metadata": {},
   "source": [
    "Les résultats des algorithmes sont améliorés grâce à la conservation des données d'entrée,\n",
    "l'algorithme qui parvient à obtenir les meilleures performances est alors DecisionTree en avoisinant un score aux alentours de 73%.\n",
    "Seul tensorflow n'a pas connu d'amélioration de performance avec l'ajout de nouvelles données en entrée."
   ]
  },
  {
   "cell_type": "markdown",
   "id": "573cc56e",
   "metadata": {},
   "source": [
    "## En bonus : RandomForest "
   ]
  },
  {
   "cell_type": "markdown",
   "id": "1d32eabd",
   "metadata": {},
   "source": [
    "Il est possible d'utiliser le modèle RandomForest pour améliorer les résultats, mais cela à un coup qui est la vitesse d'exécution du programme, qui est très lente (plus de 4 minutes)."
   ]
  },
  {
   "cell_type": "code",
   "execution_count": 38,
   "id": "4433eb84",
   "metadata": {},
   "outputs": [
    {
     "name": "stdout",
     "output_type": "stream",
     "text": [
      "RandomForestClassifier()\n",
      "\t Mean accuracy: 79.92002063983487%\n"
     ]
    },
    {
     "data": {
      "text/plain": [
       "0.7992002063983488"
      ]
     },
     "execution_count": 38,
     "metadata": {},
     "output_type": "execute_result"
    }
   ],
   "source": [
    "#prend plus de 4 minutes pour s'exécuter entièrement\n",
    "from sklearn.ensemble import RandomForestClassifier\n",
    "\n",
    "test_model(RandomForestClassifier(), observations, labels, n)"
   ]
  },
  {
   "cell_type": "markdown",
   "id": "af2d7770",
   "metadata": {},
   "source": [
    "Comme on peut le voir ici, le RandomForest a une probabilité de 79% concernant \"l'accuracy\",\n",
    "cependant son utilisation est très coûteuse."
   ]
  },
  {
   "cell_type": "markdown",
   "id": "515ce25d",
   "metadata": {},
   "source": [
    "## Conclusion"
   ]
  },
  {
   "cell_type": "markdown",
   "id": "5d94d70c",
   "metadata": {},
   "source": [
    "En conclusion, \n",
    "le problème présenté doit être résolu en utilisant un algortihme de classification supervisé ; afin de le traiter au mieux, le modèle le plus à même de réaliser les meillleures performances en termes de prédiction tout en restant relativement rapide est le modèle DecisionTree. \n",
    "Toutefois, il est important de préciser que le modèle RandomForest permet de réaliser des performances un peu meilleures (ont atteint le 79%) mais il réalise cette amélioration dans un temps beaucoup trop long pour être conservé comme choix idéal."
   ]
  },
  {
   "cell_type": "code",
   "execution_count": null,
   "id": "04f65c55",
   "metadata": {},
   "outputs": [],
   "source": []
  }
 ],
 "metadata": {
  "kernelspec": {
   "display_name": "Python 3 (ipykernel)",
   "language": "python",
   "name": "python3"
  },
  "language_info": {
   "codemirror_mode": {
    "name": "ipython",
    "version": 3
   },
   "file_extension": ".py",
   "mimetype": "text/x-python",
   "name": "python",
   "nbconvert_exporter": "python",
   "pygments_lexer": "ipython3",
   "version": "3.9.7"
  }
 },
 "nbformat": 4,
 "nbformat_minor": 5
}
